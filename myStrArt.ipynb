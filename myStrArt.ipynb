{
  "nbformat": 4,
  "nbformat_minor": 0,
  "metadata": {
    "colab": {
      "provenance": [],
      "authorship_tag": "ABX9TyP+ES0jsW/wWEhOq9J0Tfni",
      "include_colab_link": true
    },
    "kernelspec": {
      "name": "python3",
      "display_name": "Python 3"
    },
    "language_info": {
      "name": "python"
    }
  },
  "cells": [
    {
      "cell_type": "markdown",
      "metadata": {
        "id": "view-in-github",
        "colab_type": "text"
      },
      "source": [
        "<a href=\"https://colab.research.google.com/github/Ser9ibus/myStrArt/blob/main/myStrArt.ipynb\" target=\"_parent\"><img src=\"https://colab.research.google.com/assets/colab-badge.svg\" alt=\"Open In Colab\"/></a>"
      ]
    },
    {
      "cell_type": "code",
      "execution_count": 7,
      "metadata": {
        "id": "2srI21WEcpi7"
      },
      "outputs": [],
      "source": [
        "import cv2\n",
        "import numpy as np\n",
        "\n",
        "# Invert grayscale image\n",
        "def invertImage(image):\n",
        "    return (255-image)\n",
        "\n",
        "# Apply circular mask to image\n",
        "def maskImage(image, radius):\n",
        "    y, x = np.ogrid[-radius:radius + 1, -radius:radius + 1]\n",
        "    mask = x**2 + y**2 > radius**2\n",
        "    image[mask] = 0\n",
        "    return image\n",
        "\n",
        "# Compute coordinates of loom pins    \n",
        "def pinCoords(radius, nPins=200, offset=0, x0=None, y0=None):\n",
        "    alpha = np.linspace(0 + offset, 2*np.pi + offset, nPins + 1)\n",
        "\n",
        "    if (x0 == None) or (y0 == None):\n",
        "        x0 = radius + 1\n",
        "        y0 = radius + 1\n",
        "\n",
        "    coords = []\n",
        "    for angle in alpha[0:-1]:\n",
        "        x = int(x0 + radius*np.cos(angle))\n",
        "        y = int(y0 + radius*np.sin(angle))\n",
        "\n",
        "        coords.append((y, x))\n",
        "    return coords\n",
        "\n",
        "# Compute a line mask\n",
        "def linePixels(pin0, pin1):\n",
        "    length = int(np.hypot(pin1[0] - pin0[0], pin1[1] - pin0[1]))\n",
        "\n",
        "    x = np.linspace(pin0[1], pin1[1], length)\n",
        "    y = np.linspace(pin0[0], pin1[0], length)\n",
        "\n",
        "    return (x.astype(np.int)-1, y.astype(np.int)-1)"
      ]
    },
    {
      "cell_type": "code",
      "source": [
        "imgPath = 'StrArt_t1.bmp'\n",
        "\n",
        "# Parameters\n",
        "imgRadius = 500     # Number of pixels that the image radius is resized to\n",
        "\n",
        "initPin = 0         # Initial pin to start threading from\n",
        "numPins = 200       # Number of pins on the circular loom\n",
        "numLines = 1000     # Maximal number of lines\n",
        "\n",
        "minLoop = 3         # Disallow loops of less than minLoop lines\n",
        "lineWidth = 3       # The number of pixels that represents the width of a thread\n",
        "lineWeight = 15     # The weight a single thread has in terms of \"darkness\""
      ],
      "metadata": {
        "id": "lN-ZYHiLTC32"
      },
      "execution_count": 8,
      "outputs": []
    },
    {
      "cell_type": "code",
      "source": [
        "import os\n",
        "if os.path.exists(imgPath):\n",
        "  # Load image\n",
        "  image = cv2.imread(imgPath)\n",
        "  print(image.shape)"
      ],
      "metadata": {
        "colab": {
          "base_uri": "https://localhost:8080/"
        },
        "id": "Y9vM4zaZcybF",
        "outputId": "43805dd5-0bcb-4718-aa62-c7df4941a783"
      },
      "execution_count": 10,
      "outputs": [
        {
          "output_type": "stream",
          "name": "stdout",
          "text": [
            "(210, 200, 3)\n"
          ]
        }
      ]
    },
    {
      "cell_type": "code",
      "source": [
        "# Crop image\n",
        "height, width = image.shape[0:2]\n",
        "minEdge= min(height, width)\n",
        "topEdge = int((height - minEdge)/2)\n",
        "leftEdge = int((width - minEdge)/2)\n",
        "imgCropped = image[topEdge:topEdge+minEdge, leftEdge:leftEdge+minEdge]\n",
        "cv2.imwrite('./cropped.png', imgCropped)\n",
        "\n",
        "# Convert to grayscale\n",
        "imgGray = cv2.cvtColor(imgCropped, cv2.COLOR_BGR2GRAY)\n",
        "cv2.imwrite('./gray.png', imgGray)\n",
        "\n",
        "# Resize image\n",
        "imgSized = cv2.resize(imgGray, (2*imgRadius + 1, 2*imgRadius + 1)) \n",
        "\n",
        "# Invert image\n",
        "imgInverted = invertImage(imgSized)\n",
        "cv2.imwrite('./inverted.png', imgInverted)\n",
        "\n",
        "# Mask image\n",
        "imgMasked = maskImage(imgInverted, imgRadius)\n",
        "cv2.imwrite('./masked.png', imgMasked)"
      ],
      "metadata": {
        "id": "M7Ptkb5CgtRO"
      },
      "execution_count": 5,
      "outputs": []
    },
    {
      "cell_type": "code",
      "source": [
        "# Define pin coordinates\n",
        "coords = pinCoords(imgRadius, nPins)\n",
        "height, width = imgMasked.shape[0:1]\n",
        "\n",
        "# Initialize variables\n",
        "i = 0\n",
        "lines = []\n",
        "previousPins = []\n",
        "oldPin = initPin\n",
        "lineMask = np.zeros((height, width))\n",
        "\n",
        "imgResult = 255 * np.ones((height, width))\n",
        "\n",
        "# Loop over lines until stopping criteria is reached\n",
        "for line in range(nLines):\n",
        "    i += 1\n",
        "    bestLine = 0\n",
        "    oldCoord = coords[oldPin]\n",
        "\n",
        "     # Loop over possible lines\n",
        "     for index in range(1, nPins):\n",
        "        pin = (oldPin + index) % nPins\n",
        "\n",
        "        coord = coords[pin]\n",
        "        xLine, yLine = linePixels(oldCoord, coord)\n",
        "\n",
        "        # Fitness function\n",
        "        lineSum = np.sum(imgMasked[yLine, xLine])\n",
        "\n",
        "        if (lineSum > bestLine) and not(pin in previousPins):\n",
        "            bestLine = lineSum\n",
        "            bestPin = pin\n",
        "    \n",
        "    # Update previous pins\n",
        "    if len(previousPins) >= minLoop:\n",
        "        previousPins.pop(1)\n",
        "    previousPins.append(bestPin)\n",
        "\n",
        "    # Subtract new line from image\n",
        "    lineMask = lineMask * 1\n",
        "    cv2.line(lineMask, oldCoord, coords[bestPin], lineWeight, lineWidth)\n",
        "    imgMasked = np.subtract(imgMasked, lineMask)\n",
        "\n",
        "    # Save line to results\n",
        "    lines.append((oldPin, bestPin))\n",
        "\n",
        "\n",
        "    # plot results\n",
        "    xLine, yLine = linePixels(coords[bestPin], coord)\n",
        "    imgResult[yLine, xLine] = 0\n",
        "    cv2.imshow('image', imgResult)\n",
        "    cv2.waitKey(1)\n",
        "\n",
        "    # Break if no lines possible\n",
        "    if bestPin == oldPin:\n",
        "        break\n",
        "\n",
        "    # Prepare for next loop\n",
        "    oldPin = bestPin\n",
        "\n",
        "    # Print progress\n",
        "    sys.stdout.write(\"\\b\\b\")\n",
        "    sys.stdout.write(\"\\r\")\n",
        "    sys.stdout.write(\"[+] Computing line \" + str(line + 1) + \" of \" + str(numLines) + \" total\")\n",
        "    sys.stdout.flush()"
      ],
      "metadata": {
        "colab": {
          "base_uri": "https://localhost:8080/",
          "height": 130
        },
        "id": "jgmfsOXEWzRQ",
        "outputId": "fd2d34b2-31b7-4fb8-e089-b78c524b25ae"
      },
      "execution_count": 11,
      "outputs": [
        {
          "output_type": "error",
          "ename": "IndentationError",
          "evalue": "ignored",
          "traceback": [
            "\u001b[0;36m  File \u001b[0;32m\"<ipython-input-11-54cefad085a9>\"\u001b[0;36m, line \u001b[0;32m15\u001b[0m\n\u001b[0;31m    for index in range(1, nPins):\u001b[0m\n\u001b[0m    ^\u001b[0m\n\u001b[0;31mIndentationError\u001b[0m\u001b[0;31m:\u001b[0m unexpected indent\n"
          ]
        }
      ]
    }
  ]
}