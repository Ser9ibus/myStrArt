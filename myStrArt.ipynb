{
  "nbformat": 4,
  "nbformat_minor": 0,
  "metadata": {
    "colab": {
      "provenance": [],
      "authorship_tag": "ABX9TyMW+C4zIfT+f01eFJrhBT6W",
      "include_colab_link": true
    },
    "kernelspec": {
      "name": "python3",
      "display_name": "Python 3"
    },
    "language_info": {
      "name": "python"
    }
  },
  "cells": [
    {
      "cell_type": "markdown",
      "metadata": {
        "id": "view-in-github",
        "colab_type": "text"
      },
      "source": [
        "<a href=\"https://colab.research.google.com/github/Ser9ibus/myStrArt/blob/main/myStrArt.ipynb\" target=\"_parent\"><img src=\"https://colab.research.google.com/assets/colab-badge.svg\" alt=\"Open In Colab\"/></a>"
      ]
    },
    {
      "cell_type": "code",
      "execution_count": 1,
      "metadata": {
        "id": "2srI21WEcpi7"
      },
      "outputs": [],
      "source": [
        "import cv2\n",
        "import numpy as np\n",
        "\n",
        "# Invert grayscale image\n",
        "def invertImage(image):\n",
        "    return (255-image)\n",
        "\n",
        "# Apply circular mask to image\n",
        "def maskImage(image, radius):\n",
        "    y, x = np.ogrid[-radius:radius + 1, -radius:radius + 1]\n",
        "    mask = x**2 + y**2 > radius**2\n",
        "    image[mask] = 0\n",
        "    return image\n",
        "\n",
        "# Compute coordinates of loom pins    \n",
        "def pinCoords(radius, nPins=200, offset=0, x0=None, y0=None):\n",
        "    alpha = np.linspace(0 + offset, 2*np.pi + offset, nPins + 1)\n",
        "\n",
        "    if (x0 == None) or (y0 == None):\n",
        "        x0 = radius + 1\n",
        "        y0 = radius + 1\n",
        "\n",
        "    coords = []\n",
        "    for angle in alpha[0:-1]:\n",
        "        x = int(x0 + radius*np.cos(angle))\n",
        "        y = int(y0 + radius*np.sin(angle))\n",
        "\n",
        "        coords.append((y, x))\n",
        "    return coords\n",
        "\n",
        "# Compute a line mask\n",
        "def linePixels(pin0, pin1):\n",
        "    length = int(np.hypot(pin1[0] - pin0[0], pin1[1] - pin0[1]))\n",
        "\n",
        "    x = np.linspace(pin0[1], pin1[1], length)\n",
        "    y = np.linspace(pin0[0], pin1[0], length)\n",
        "\n",
        "    return (x.astype(np.int)-1, y.astype(np.int)-1)"
      ]
    },
    {
      "cell_type": "code",
      "source": [
        "imgPath = 'StrArt_t1.bmp'\n",
        "\n",
        "# Parameters\n",
        "imgRadius = 500     # Number of pixels that the image radius is resized to\n",
        "\n",
        "initPin = 0         # Initial pin to start threading from\n",
        "numPins = 200       # Number of pins on the circular loom\n",
        "numLines = 1000     # Maximal number of lines\n",
        "\n",
        "minLoop = 3         # Disallow loops of less than minLoop lines\n",
        "lineWidth = 3       # The number of pixels that represents the width of a thread\n",
        "lineWeight = 15     # The weight a single thread has in terms of \"darkness\""
      ],
      "metadata": {
        "id": "lN-ZYHiLTC32"
      },
      "execution_count": 2,
      "outputs": []
    },
    {
      "cell_type": "code",
      "source": [
        "import os\n",
        "if os.path.exists(imgPath):\n",
        "  # Load image\n",
        "  image = cv2.imread(imgPath)\n",
        "  print(image.shape)"
      ],
      "metadata": {
        "colab": {
          "base_uri": "https://localhost:8080/"
        },
        "id": "Y9vM4zaZcybF",
        "outputId": "a50ca73b-d8eb-4b39-c4b2-16f58170bc8c"
      },
      "execution_count": 3,
      "outputs": [
        {
          "output_type": "stream",
          "name": "stdout",
          "text": [
            "(210, 200, 3)\n"
          ]
        }
      ]
    },
    {
      "cell_type": "code",
      "source": [
        "# Crop image\n",
        "height, width = image.shape[0:2]\n",
        "minEdge= min(height, width)\n",
        "topEdge = int((height - minEdge)/2)\n",
        "leftEdge = int((width - minEdge)/2)\n",
        "imgCropped = image[topEdge:topEdge+minEdge, leftEdge:leftEdge+minEdge]\n",
        "cv2.imwrite('./cropped.png', imgCropped)\n",
        "\n",
        "# Convert to grayscale\n",
        "imgGray = cv2.cvtColor(imgCropped, cv2.COLOR_BGR2GRAY)\n",
        "cv2.imwrite('./gray.png', imgGray)\n",
        "\n",
        "# Resize image\n",
        "imgSized = cv2.resize(imgGray, (2*imgRadius + 1, 2*imgRadius + 1)) \n",
        "\n",
        "# Invert image\n",
        "imgInverted = invertImage(imgSized)\n",
        "cv2.imwrite('./inverted.png', imgInverted)\n",
        "\n",
        "# Mask image\n",
        "imgMasked = maskImage(imgInverted, imgRadius)\n",
        "cv2.imwrite('./masked.png', imgMasked)"
      ],
      "metadata": {
        "id": "M7Ptkb5CgtRO",
        "colab": {
          "base_uri": "https://localhost:8080/"
        },
        "outputId": "c095713c-4540-45e0-a829-4173c5ea7439"
      },
      "execution_count": 4,
      "outputs": [
        {
          "output_type": "execute_result",
          "data": {
            "text/plain": [
              "True"
            ]
          },
          "metadata": {},
          "execution_count": 4
        }
      ]
    },
    {
      "cell_type": "code",
      "source": [
        "# Define pin coordinates\n",
        "coords = pinCoords(imgRadius, numPins)\n",
        "height, width = imgMasked.shape[0:2]\n",
        "\n",
        "# image result is rendered to\n",
        "imgResult = 255 * np.ones((height, width))\n",
        "#print(imgResult)\n",
        "\n",
        "# Initialize variables\n",
        "i = 0\n",
        "lines = []\n",
        "previousPins = []\n",
        "oldPin = initPin\n",
        "lineMask = np.zeros((height, width))\n",
        "#print(lineMask)"
      ],
      "metadata": {
        "id": "KkU36s_LEKZv"
      },
      "execution_count": 9,
      "outputs": []
    },
    {
      "cell_type": "code",
      "source": [
        "# Loop over lines until stopping criteria is reached\n",
        "for line in range(numLines):\n",
        "    i += 1\n",
        "    bestLine = 0\n",
        "    oldCoord = coords[oldPin]\n",
        "\n",
        "    # Loop over possible lines\n",
        "    for index in range(1, numPins):\n",
        "        pin = (oldPin + index) % numPins\n",
        "\n",
        "        coord = coords[pin]\n",
        "\n",
        "        xLine, yLine = linePixels(oldCoord, coord)\n",
        "\n",
        "        # Fitness function\n",
        "        lineSum = np.sum(imgMasked[yLine, xLine])\n",
        "\n",
        "        if (lineSum > bestLine) and not(pin in previousPins):\n",
        "            bestLine = lineSum\n",
        "            bestPin = pin\n",
        "\n",
        "    # Update previous pins\n",
        "    if len(previousPins) >= minLoop:\n",
        "        previousPins.pop(0)\n",
        "    previousPins.append(bestPin)\n",
        "\n",
        "    # Subtract new line from image\n",
        "    lineMask = lineMask * 0\n",
        "    cv2.line(lineMask, oldCoord, coords[bestPin], lineWeight, lineWidth)\n",
        "    imgMasked = np.subtract(imgMasked, lineMask)\n",
        "\n",
        "    # Save line to results\n",
        "    lines.append((oldPin, bestPin))\n",
        "\n",
        "    # plot results\n",
        "    xLine, yLine = linePixels(coords[bestPin], coord)\n",
        "    imgResult[yLine, xLine] = 0\n",
        "    cv2.imshow('image', imgResult)\n",
        "    cv2.waitKey(1)\n",
        "\n",
        "    # Break if no lines possible\n",
        "    if bestPin == oldPin:\n",
        "        break\n",
        "\n",
        "    # Prepare for next loop\n",
        "    oldPin = bestPin\n",
        "\n",
        "    # Print progress\n",
        "    sys.stdout.write(\"\\b\\b\")\n",
        "    sys.stdout.write(\"\\r\")\n",
        "    sys.stdout.write(\"[+] Computing line \" + str(line + 1) + \" of \" + str(numLines) + \" total\")\n",
        "    sys.stdout.flush()"
      ],
      "metadata": {
        "colab": {
          "base_uri": "https://localhost:8080/",
          "height": 480
        },
        "id": "jgmfsOXEWzRQ",
        "outputId": "368ba126-d715-4af1-bb8f-82457877f30b"
      },
      "execution_count": 10,
      "outputs": [
        {
          "output_type": "stream",
          "name": "stderr",
          "text": [
            "<ipython-input-1-478971441310>:38: DeprecationWarning: `np.int` is a deprecated alias for the builtin `int`. To silence this warning, use `int` by itself. Doing this will not modify any behavior and is safe. When replacing `np.int`, you may wish to use e.g. `np.int64` or `np.int32` to specify the precision. If you wish to review your current use, check the release note link for additional information.\n",
            "Deprecated in NumPy 1.20; for more details and guidance: https://numpy.org/devdocs/release/1.20.0-notes.html#deprecations\n",
            "  return (x.astype(np.int)-1, y.astype(np.int)-1)\n"
          ]
        },
        {
          "output_type": "error",
          "ename": "DisabledFunctionError",
          "evalue": "ignored",
          "traceback": [
            "\u001b[0;31m---------------------------------------------------------------------------\u001b[0m",
            "\u001b[0;31mDisabledFunctionError\u001b[0m                     Traceback (most recent call last)",
            "\u001b[0;32m<ipython-input-10-a1c1ed6bd04b>\u001b[0m in \u001b[0;36m<module>\u001b[0;34m\u001b[0m\n\u001b[1;32m     36\u001b[0m     \u001b[0mxLine\u001b[0m\u001b[0;34m,\u001b[0m \u001b[0myLine\u001b[0m \u001b[0;34m=\u001b[0m \u001b[0mlinePixels\u001b[0m\u001b[0;34m(\u001b[0m\u001b[0mcoords\u001b[0m\u001b[0;34m[\u001b[0m\u001b[0mbestPin\u001b[0m\u001b[0;34m]\u001b[0m\u001b[0;34m,\u001b[0m \u001b[0mcoord\u001b[0m\u001b[0;34m)\u001b[0m\u001b[0;34m\u001b[0m\u001b[0;34m\u001b[0m\u001b[0m\n\u001b[1;32m     37\u001b[0m     \u001b[0mimgResult\u001b[0m\u001b[0;34m[\u001b[0m\u001b[0myLine\u001b[0m\u001b[0;34m,\u001b[0m \u001b[0mxLine\u001b[0m\u001b[0;34m]\u001b[0m \u001b[0;34m=\u001b[0m \u001b[0;36m0\u001b[0m\u001b[0;34m\u001b[0m\u001b[0;34m\u001b[0m\u001b[0m\n\u001b[0;32m---> 38\u001b[0;31m     \u001b[0mcv2\u001b[0m\u001b[0;34m.\u001b[0m\u001b[0mimshow\u001b[0m\u001b[0;34m(\u001b[0m\u001b[0;34m'image'\u001b[0m\u001b[0;34m,\u001b[0m \u001b[0mimgResult\u001b[0m\u001b[0;34m)\u001b[0m\u001b[0;34m\u001b[0m\u001b[0;34m\u001b[0m\u001b[0m\n\u001b[0m\u001b[1;32m     39\u001b[0m     \u001b[0mcv2\u001b[0m\u001b[0;34m.\u001b[0m\u001b[0mwaitKey\u001b[0m\u001b[0;34m(\u001b[0m\u001b[0;36m1\u001b[0m\u001b[0;34m)\u001b[0m\u001b[0;34m\u001b[0m\u001b[0;34m\u001b[0m\u001b[0m\n\u001b[1;32m     40\u001b[0m \u001b[0;34m\u001b[0m\u001b[0m\n",
            "\u001b[0;32m/usr/local/lib/python3.8/dist-packages/google/colab/_import_hooks/_cv2.py\u001b[0m in \u001b[0;36mwrapped\u001b[0;34m(*args, **kwargs)\u001b[0m\n\u001b[1;32m     46\u001b[0m   \u001b[0;32mdef\u001b[0m \u001b[0mwrapped\u001b[0m\u001b[0;34m(\u001b[0m\u001b[0;34m*\u001b[0m\u001b[0margs\u001b[0m\u001b[0;34m,\u001b[0m \u001b[0;34m**\u001b[0m\u001b[0mkwargs\u001b[0m\u001b[0;34m)\u001b[0m\u001b[0;34m:\u001b[0m\u001b[0;34m\u001b[0m\u001b[0;34m\u001b[0m\u001b[0m\n\u001b[1;32m     47\u001b[0m     \u001b[0;32mif\u001b[0m \u001b[0;32mnot\u001b[0m \u001b[0mos\u001b[0m\u001b[0;34m.\u001b[0m\u001b[0menviron\u001b[0m\u001b[0;34m.\u001b[0m\u001b[0mget\u001b[0m\u001b[0;34m(\u001b[0m\u001b[0menv_var\u001b[0m\u001b[0;34m,\u001b[0m \u001b[0;32mFalse\u001b[0m\u001b[0;34m)\u001b[0m\u001b[0;34m:\u001b[0m\u001b[0;34m\u001b[0m\u001b[0;34m\u001b[0m\u001b[0m\n\u001b[0;32m---> 48\u001b[0;31m       \u001b[0;32mraise\u001b[0m \u001b[0mDisabledFunctionError\u001b[0m\u001b[0;34m(\u001b[0m\u001b[0mmessage\u001b[0m\u001b[0;34m,\u001b[0m \u001b[0mname\u001b[0m \u001b[0;32mor\u001b[0m \u001b[0mfunc\u001b[0m\u001b[0;34m.\u001b[0m\u001b[0m__name__\u001b[0m\u001b[0;34m)\u001b[0m\u001b[0;34m\u001b[0m\u001b[0;34m\u001b[0m\u001b[0m\n\u001b[0m\u001b[1;32m     49\u001b[0m     \u001b[0;32mreturn\u001b[0m \u001b[0mfunc\u001b[0m\u001b[0;34m(\u001b[0m\u001b[0;34m*\u001b[0m\u001b[0margs\u001b[0m\u001b[0;34m,\u001b[0m \u001b[0;34m**\u001b[0m\u001b[0mkwargs\u001b[0m\u001b[0;34m)\u001b[0m\u001b[0;34m\u001b[0m\u001b[0;34m\u001b[0m\u001b[0m\n\u001b[1;32m     50\u001b[0m \u001b[0;34m\u001b[0m\u001b[0m\n",
            "\u001b[0;31mDisabledFunctionError\u001b[0m: cv2.imshow() is disabled in Colab, because it causes Jupyter sessions\nto crash; see https://github.com/jupyter/notebook/issues/3935.\nAs a substitution, consider using\n  from google.colab.patches import cv2_imshow\n"
          ],
          "errorDetails": {
            "actions": [
              {
                "action": "open_snippet",
                "actionText": "Search Snippets for cv2.imshow",
                "snippetFilter": "cv2.imshow"
              }
            ]
          }
        }
      ]
    },
    {
      "cell_type": "code",
      "source": [
        "# Wait for user and save before exit\n",
        "cv2.waitKey(0)\n",
        "cv2.destroyAllWindows()\n",
        "cv2.imwrite('./threaded.png', imgResult)\n",
        "\n",
        "svg_output = open('threaded.svg','wb')\n",
        "header=\"\"\"<?xml version=\"1.0\" standalone=\"no\"?>\n",
        "<svg width=\"%i\" height=\"%i\" version=\"1.1\" xmlns=\"http://www.w3.org/2000/svg\">\n",
        "\"\"\" % (width, height)\n",
        "footer=\"</svg>\"\n",
        "svg_output.write(header.encode('utf8'))\n",
        "pather = lambda d : '<path d=\"%s\" stroke=\"black\" stroke-width=\"0.5\" fill=\"none\" />\\n' % d\n",
        "pathstrings=[]\n",
        "pathstrings.append(\"M\" + \"%i %i\" % coords[lines[0][0]] + \" \")\n",
        "for l in lines:\n",
        "    nn = coords[l[1]]\n",
        "    pathstrings.append(\"L\" + \"%i %i\" % nn + \" \")\n",
        "pathstrings.append(\"Z\")\n",
        "d = \"\".join(pathstrings)\n",
        "svg_output.write(pather(d).encode('utf8'))\n",
        "svg_output.write(footer.encode('utf8'))\n",
        "svg_output.close()\n",
        "\n",
        "csv_output = open('threaded.csv','wb')\n",
        "csv_output.write(\"x1,y1,x2,y2\\n\".encode('utf8'))\n",
        "csver = lambda c1,c2 : \"%i,%i\" % c1 + \",\" + \"%i,%i\" % c2 + \"\\n\"\n",
        "for l in lines:\n",
        "    csv_output.write(csver(coords[l[0]],coords[l[1]]).encode('utf8'))\n",
        "csv_output.close()"
      ],
      "metadata": {
        "id": "iGGKZI9CPnUg"
      },
      "execution_count": null,
      "outputs": []
    }
  ]
}