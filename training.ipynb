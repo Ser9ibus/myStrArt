{
  "nbformat": 4,
  "nbformat_minor": 0,
  "metadata": {
    "colab": {
      "provenance": [],
      "authorship_tag": "ABX9TyMbHDzhwHhmWhMDj65alOvv",
      "include_colab_link": true
    },
    "kernelspec": {
      "name": "python3",
      "display_name": "Python 3"
    },
    "language_info": {
      "name": "python"
    }
  },
  "cells": [
    {
      "cell_type": "markdown",
      "metadata": {
        "id": "view-in-github",
        "colab_type": "text"
      },
      "source": [
        "<a href=\"https://colab.research.google.com/github/Ser9ibus/myStrArt/blob/main/training.ipynb\" target=\"_parent\"><img src=\"https://colab.research.google.com/assets/colab-badge.svg\" alt=\"Open In Colab\"/></a>"
      ]
    },
    {
      "cell_type": "code",
      "execution_count": 3,
      "metadata": {
        "colab": {
          "base_uri": "https://localhost:8080/",
          "height": 324
        },
        "id": "M-s9vpi_judj",
        "outputId": "f7e663a3-5b92-424f-f102-5630e4929a0f"
      },
      "outputs": [
        {
          "output_type": "stream",
          "name": "stderr",
          "text": [
            "WARNING:matplotlib.image:Clipping input data to the valid range for imshow with RGB data ([0..1] for floats or [0..255] for integers).\n"
          ]
        },
        {
          "output_type": "execute_result",
          "data": {
            "text/plain": [
              "<matplotlib.image.AxesImage at 0x7f79d6c867c0>"
            ]
          },
          "metadata": {},
          "execution_count": 3
        },
        {
          "output_type": "display_data",
          "data": {
            "text/plain": [
              "<Figure size 432x288 with 1 Axes>"
            ],
            "image/png": "[encoded data removed]"
          },
          "metadata": {
            "needs_background": "light"
          }
        }
      ],
      "source": [
        "import numpy as np\n",
        "import matplotlib.pyplot as plt\n",
        "\n",
        "#read the image\n",
        "img = plt.imread('StrArt_t2.png')\n",
        "\n",
        "#show the image\n",
        "plt.imshow(img)\n",
        "\n",
        "#get the dimensions of the image\n",
        "n,m,d = img.shape\n",
        "\n",
        "#create an open grid for our image\n",
        "x,y = np.ogrid[0:n, 0:m]\n",
        "\n",
        "#operate on a copy of the image\n",
        "copyImg = img.copy()\n",
        "\n",
        "#get the x and y center points of our image\n",
        "center_x = n/2\n",
        "center_y = m/2\n",
        "\n",
        "#create a circle mask which is centered in the middle of the image, and with radius 100\n",
        "circle_mask = (x-center_x)**2 + (y-center_y)**2 <= 50**2\n",
        "\n",
        "#black out anywhere within the circle mask\n",
        "copyImg[circle_mask] = [255,0,0]\n",
        "\n",
        "#show the image\n",
        "plt.imshow(copyImg)"
      ]
    }
  ]
}