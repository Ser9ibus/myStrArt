{
  "nbformat": 4,
  "nbformat_minor": 0,
  "metadata": {
    "colab": {
      "provenance": [],
      "authorship_tag": "ABX9TyParFd+o8SMq1FAhxGzZMkQ",
      "include_colab_link": true
    },
    "kernelspec": {
      "name": "python3",
      "display_name": "Python 3"
    },
    "language_info": {
      "name": "python"
    }
  },
  "cells": [
    {
      "cell_type": "markdown",
      "metadata": {
        "id": "view-in-github",
        "colab_type": "text"
      },
      "source": [
        "<a href=\"https://colab.research.google.com/github/Ser9ibus/myStrArt/blob/main/training.ipynb\" target=\"_parent\"><img src=\"https://colab.research.google.com/assets/colab-badge.svg\" alt=\"Open In Colab\"/></a>"
      ]
    },
    {
      "cell_type": "code",
      "execution_count": 69,
      "metadata": {
        "colab": {
          "base_uri": "https://localhost:8080/",
          "height": 341
        },
        "id": "M-s9vpi_judj",
        "outputId": "109e9e0d-7f4d-4428-c6e8-afae6f9935ec"
      },
      "outputs": [
        {
          "output_type": "stream",
          "name": "stderr",
          "text": [
            "WARNING:matplotlib.image:Clipping input data to the valid range for imshow with RGB data ([0..1] for floats or [0..255] for integers).\n"
          ]
        },
        {
          "output_type": "stream",
          "name": "stdout",
          "text": [
            "(210, 200, 3)\n"
          ]
        },
        {
          "output_type": "execute_result",
          "data": {
            "text/plain": [
              "<matplotlib.image.AxesImage at 0x7f6f43a82310>"
            ]
          },
          "metadata": {},
          "execution_count": 69
        },
        {
          "output_type": "display_data",
          "data": {
            "text/plain": [
              "<Figure size 432x288 with 1 Axes>"
            ],
            "image/png": "[encoded data removed]"
          },
          "metadata": {
            "needs_background": "light"
          }
        }
      ],
      "source": [
        "import numpy as np\n",
        "import matplotlib.pyplot as plt\n",
        "\n",
        "#read the image\n",
        "img = plt.imread('StrArt_t2.png')\n",
        "\n",
        "#show the image\n",
        "plt.imshow(img)\n",
        "\n",
        "#get the dimensions of the image\n",
        "n,m,d = img.shape\n",
        "print(img.shape)\n",
        "minEdge= min(n, m)\n",
        "topEdge = int((n - minEdge)/2)\n",
        "leftEdge = int((m - minEdge)/2)\n",
        "imgCropped = image[topEdge:topEdge+minEdge, leftEdge:leftEdge+minEdge]\n",
        "#create an open grid for our image\n",
        "x,y = np.ogrid[0:n, 0:m]\n",
        "i,j = np.ogrid[0:n, 0:m]\n",
        "#operate on a copy of the image\n",
        "copyImg = img.copy()\n",
        "imgSized = cv2.resize(imgGray, (2*imgRadius + 1, 2*imgRadius + 1)) \n",
        "#get the x and y center points of our image\n",
        "center_x = n/2\n",
        "center_y = m/2\n",
        "\n",
        "#create a circle mask which is centered in the middle of the image, and with radius 100\n",
        "\n",
        "radius = 100\n",
        "alpha = np.linspace(0, 2*np.pi, 10 + 1)\n",
        "for angle in alpha:\n",
        "  x = int(radius+1 + radius*np.cos(angle))\n",
        "  y = int(radius+1 + radius*np.sin(angle))\n",
        "  plt.scatter(x,y)\n",
        "circle_mask = (i-center_x)**2 + (j-center_y)**2 == 100**2\n",
        "c=plt.Circle ((100, 100), radius= 100)\n",
        "plt.gca().add_artist(c)\n",
        "# C=2*pi*radius /10\n",
        "#black out anywhere within the circle mask\n",
        "copyImg[circle_mask] = [255,0,0]\n",
        "#pin1=\n",
        "#length = int(np.hypot(pin1[0] - pin0[0], pin1[1] - pin0[1]))\n",
        "#x = np.linspace(pin0[1], pin1[1], length)\n",
        "#y = np.linspace(pin0[0], pin1[0], length)\n",
        "#(x.astype(np.int)-1, y.astype(np.int)-1)\n",
        "\n",
        "#show the image\n",
        "\n",
        "plt.imshow(copyImg)"
      ]
    }
  ]
}